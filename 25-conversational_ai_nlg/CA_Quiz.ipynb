{
 "cells": [
  {
   "cell_type": "markdown",
   "metadata": {},
   "source": [
    "# Chapter 1"
   ]
  },
  {
   "cell_type": "markdown",
   "metadata": {},
   "source": [
    "Q: Which of the following applications uses all the four subsets of NLP?\n",
    "\n",
    "A. Document Reader\n",
    "\n",
    "B. Siri(Apple's Voice Assistant) [Correct Answer]\n",
    "\n",
    "Explanation: Document reader uses only the speech synthesis subset of NLP."
   ]
  },
  {
   "cell_type": "markdown",
   "metadata": {},
   "source": [
    "Q: Which of the following factors is not responsible for content determination?\n",
    "\n",
    "A. Information Source\n",
    "\n",
    "B. Content Consumer\n",
    "\n",
    "C. Constraints\n",
    "\n",
    "D. Different communicative goals\n",
    "\n",
    "E. None of the above [Correct Answer]\n",
    "\n",
    "Explanation: All the four factors are major motivation behind determining the content.\n"
   ]
  },
  {
   "cell_type": "markdown",
   "metadata": {},
   "source": [
    "# Chapter 2\n",
    "\n",
    "\n",
    "Q: Which of the following chatbot type can handle open domain(No restriction on topic) conversations better?\n",
    "\n",
    "A. Retreival Based model\n",
    "\n",
    "B. Generative Model [Correct Answer]\n",
    "\n",
    "Explanation: Owing to the need of predefined data, Retreival based models can't handle unexpected queries well. Generative models learn to intepret every new message and therefore can handle unseen data."
   ]
  },
  {
   "cell_type": "markdown",
   "metadata": {},
   "source": [
    "Q: Which of the following chatbot type is more suited for commercial business customer support?\n",
    "\n",
    "A. Retreival Based model [Correct Answer]\n",
    "\n",
    "B. Generative Model \n",
    "\n",
    "Explanation: Retreival based chatbots allow developers and UX to control the experience and match it to the expectations of their customers. \n"
   ]
  },
  {
   "cell_type": "markdown",
   "metadata": {},
   "source": [
    "# Chapter 3"
   ]
  },
  {
   "cell_type": "markdown",
   "metadata": {},
   "source": [
    "Q: In context of RASA chatbot, what is the aim or target of the user input called?\n",
    "\n",
    "A. Intent [Correct Answer]\n",
    "\n",
    "B. Entity\n",
    "\n",
    "Explanation: An entity represents a term or object in the user's input that provides clarification or specific context for a particular intent.\n",
    "\n",
    "For the question, \"when is my flight?\", intent is knowing the time of flight arrival and entity is flight"
   ]
  },
  {
   "cell_type": "markdown",
   "metadata": {},
   "source": [
    "Q: In context of RASA chatbot, what is the sample interaction between the user and bot called?\n",
    "\n",
    "A. Actions\n",
    "\n",
    "B. Stories[Correct Answer]\n",
    "\n",
    "Explanation: Action is used to define any operation which is performed by the bot.\n",
    "\n",
    "For the question, \"When is my flight\", a story would be to find the flight arrival time and reply.\n",
    "Here both finding time and replying by the chatbot are actions."
   ]
  },
  {
   "cell_type": "markdown",
   "metadata": {},
   "source": [
    "# Concept"
   ]
  },
  {
   "cell_type": "markdown",
   "metadata": {},
   "source": [
    "Q: If in a usecase, we need to decide that while referring to Nikola Tesla, we want to call him as rival of Edison, which step in chatbot architecture is responsible for it?\n",
    "\n",
    "A. Document Realization\n",
    "\n",
    "B. Referring Expression Generation [Correct Answer]\n",
    "\n",
    "Explanation: Document Realization is concerned with the problem of imposing ordering and structure over the information to be conveyed."
   ]
  },
  {
   "cell_type": "markdown",
   "metadata": {},
   "source": [
    "Q: Which of the following is an application of NLP and not NLG?\n",
    "\n",
    "A. Sentiment Analysis [Correct Answer]\n",
    "\n",
    "B. Question Answering\n",
    "\n",
    "Explanation: Sentiment analysis requires assessing text to give us insights and therefore is an application of NLP\n"
   ]
  },
  {
   "cell_type": "markdown",
   "metadata": {},
   "source": [
    "Q: Which step of NLG architecture is responsible for converting the sentences 'I like to eat noodles' and 'I like to eat pasta' to 'I like to eat noodles and pasta' ?\n",
    "\n",
    "A. Aggregation [Correct Answer]\n",
    "\n",
    "B. Structure realization\n",
    "\n",
    "Explanation:\n",
    "\n",
    "Aggregation is the task of deciding how the structures created should be mapped to sentences and paragraphs.\n",
    "\n",
    "\n",
    "Structure realization is the task of converting the text paragraphs and sections into the format understood by the document viwer component. "
   ]
  },
  {
   "cell_type": "markdown",
   "metadata": {},
   "source": [
    "Q: Which chatbot among the following is the most naive?\n",
    "\n",
    "A. Generative\n",
    "\n",
    "B. Retreival-Based approach\n",
    "\n",
    "C. Rule-Based approach [Correct Answer]\n",
    "\n",
    "\n",
    "Explanation: In rule-based approach, the bot answers queries based on some specified rules. \n",
    "All the commands that the bot answers must be written separately using regular expressions or other forms of string analysis. \n",
    "\n",
    "Though effective, it's too naive for complex situations. For e.g. Creating an effective customer care chatbot using Rule-Based approach will require a massive amount of predefined rules.\n"
   ]
  },
  {
   "cell_type": "markdown",
   "metadata": {},
   "source": [
    "Q: Writing is to reading as NLG is to `______`?\n",
    "\n",
    "A. NLP\n",
    "\n",
    "B. NLU\n",
    "\n",
    "C. Speech Synthesis\n",
    "\n",
    "Explanation: Natural Language Understanding or NLU deals with how to best handle unstructured inputs and convert them into a structured form that a machine can understand and act upon."
   ]
  }
 ],
 "metadata": {
  "kernelspec": {
   "display_name": "Python 3",
   "language": "python",
   "name": "python3"
  },
  "language_info": {
   "codemirror_mode": {
    "name": "ipython",
    "version": 3
   },
   "file_extension": ".py",
   "mimetype": "text/x-python",
   "name": "python",
   "nbconvert_exporter": "python",
   "pygments_lexer": "ipython3",
   "version": "3.8.5"
  }
 },
 "nbformat": 4,
 "nbformat_minor": 2
}
