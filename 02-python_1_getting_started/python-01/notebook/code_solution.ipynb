{
 "cells": [
  {
   "cell_type": "code",
   "execution_count": 2,
   "metadata": {},
   "outputs": [
    {
     "name": "stdout",
     "output_type": "stream",
     "text": [
      "['Geoffrey', 'Andrew', 'Sabestian', 'Yoshua', 'Hilary', 'Carla', 'Corinna']\n",
      "['Geoffrey', 'Andrew', 'Sabestian', 'Yoshua', 'Hilary', 'Carla', 'Corinna', 'Peter']\n",
      "['Geoffrey', 'Andrew', 'Sabestian', 'Yoshua', 'Hilary', 'Corinna', 'Peter']\n"
     ]
    }
   ],
   "source": [
    "\n",
    "# Creating student roster\n",
    "\n",
    "# Code starts here\n",
    "\n",
    "# Create the lists \n",
    "class_1 = ['Geoffrey','Andrew','Sabestian','Yoshua' ]\n",
    "class_2 = ['Hilary','Carla','Corinna']\n",
    "\n",
    "# Concatenate both the string\n",
    "new_class = (class_1 + class_2)\n",
    "print (new_class)\n",
    "\n",
    "\n",
    "# Append the list\n",
    "new_class.append('Peter')\n",
    "\n",
    "# Print updated list\n",
    "print(new_class)\n",
    "\n",
    "\n",
    "# Remove the element from the list\n",
    "new_class.remove('Carla')\n",
    "\n",
    "# Print the list\n",
    "print(new_class)\n",
    "\n",
    "# Code ends here"
   ]
  },
  {
   "cell_type": "code",
   "execution_count": 3,
   "metadata": {},
   "outputs": [
    {
     "name": "stdout",
     "output_type": "stream",
     "text": [
      "345\n",
      "69.0\n"
     ]
    }
   ],
   "source": [
    "\n",
    "\n",
    "\n",
    "# Operations using Dictonary\n",
    "\n",
    "# Create the Dictonary\n",
    "\n",
    "subject={'Math':65,'English':70,'History':80,'Hindi':70,'Science':60}\n",
    "\n",
    "\n",
    "# Slice the dict and stores  the all subjects marks in variable\n",
    "\n",
    "Math = subject['Math']\n",
    "English = subject['English']\n",
    "History = subject['History']\n",
    "Hindi = subject['Hindi']\n",
    "Science = subject['Science']\n",
    "\n",
    "# Store the all the subject in one variable `Total`\n",
    "Total = Math + English + History + Hindi + Science\n",
    "\n",
    "# Print the total\n",
    "print (Total)\n",
    "\n",
    "# Insert percentage formula\n",
    "Percentage = (Total * 100 / 500)\n",
    "\n",
    "# Print the percentage\n",
    "print(Percentage)\n"
   ]
  },
  {
   "cell_type": "code",
   "execution_count": 15,
   "metadata": {},
   "outputs": [
    {
     "data": {
      "text/plain": [
       "'Andrew'"
      ]
     },
     "execution_count": 15,
     "metadata": {},
     "output_type": "execute_result"
    }
   ],
   "source": [
    "# Code starts here\n",
    "\n",
    "# Create the Dictionary\n",
    "Mathematics = {'Andrew Ng':95, 'Geoffrey Hinton': 78, 'Sebastian Raschka': 65, 'Yoshua Benjio':50}\n",
    "\n",
    "max(Mathematics,key = Mathematics.get)\n",
    "\n"
   ]
  },
  {
   "cell_type": "code",
   "execution_count": 13,
   "metadata": {},
   "outputs": [
    {
     "data": {
      "text/plain": [
       "95"
      ]
     },
     "execution_count": 13,
     "metadata": {},
     "output_type": "execute_result"
    }
   ],
   "source": []
  },
  {
   "cell_type": "code",
   "execution_count": 6,
   "metadata": {},
   "outputs": [
    {
     "name": "stdout",
     "output_type": "stream",
     "text": [
      "andrew\n",
      "ng\n",
      "ng andrew\n",
      "NG ANDREW\n"
     ]
    }
   ],
   "source": [
    "# Enter the string\n",
    "Topper = 'andrew ng'\n",
    "\n",
    "# Create variable first_name and store first six element in the list \n",
    "First_name =(Topper[0:6])\n",
    "print (First_name)\n",
    "\n",
    "# Create variable Last_name and store last two element in the list\n",
    "Last_name = (Topper[-2:])\n",
    "print (Last_name)\n",
    "\n",
    "# Concatenate the string\n",
    "Full_name = Last_name + ' ' + First_name\n",
    "\n",
    "# print the full_name\n",
    "print (Full_name)\n",
    "\n",
    "# print the name in upper case\n",
    "print (Full_name.upper())\n"
   ]
  },
  {
   "cell_type": "code",
   "execution_count": null,
   "metadata": {},
   "outputs": [],
   "source": []
  }
 ],
 "metadata": {
  "kernelspec": {
   "display_name": "Python 3",
   "language": "python",
   "name": "python3"
  },
  "language_info": {
   "codemirror_mode": {
    "name": "ipython",
    "version": 3
   },
   "file_extension": ".py",
   "mimetype": "text/x-python",
   "name": "python",
   "nbconvert_exporter": "python",
   "pygments_lexer": "ipython3",
   "version": "3.6.4"
  }
 },
 "nbformat": 4,
 "nbformat_minor": 2
}
