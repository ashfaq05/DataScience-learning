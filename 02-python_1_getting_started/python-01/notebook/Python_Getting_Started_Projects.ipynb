{
 "cells": [
  {
   "cell_type": "markdown",
   "metadata": {},
   "source": [
    "# Student Management System \n",
    "\n",
    "## Problem Statement\n",
    "Let's try to build the student management system using basic Python operations.\n",
    "\n",
    "\n",
    "\n",
    "## Why solve this project?\n",
    "\n",
    "After completing this project, you will get to know how to solve basic Python problems. In this project, you will be applying the following concepts:\n",
    "\n",
    "* Mathematical operations\n",
    "* List operations\n",
    "* Dictionary operations \n",
    "* String indexing and formatting. "
   ]
  },
  {
   "cell_type": "markdown",
   "metadata": {},
   "source": [
    "\n",
    "# Student roster creation\n",
    "\n",
    "\n",
    "Let's create a new register for each of the classrooms and add all the entries from each register in a new register  which will now contain all those student's entries.\n",
    "\n",
    "## Instructions:\n",
    "\n",
    "* Create list `'class_1'` and pass the elements `Geoffrey Hinton`,`Andrew Ng`,`Sebastian Raschka`,`Yoshua Bengio`.\n",
    "\n",
    "\n",
    "* Create list `'class_2'` and pass the elements `Hilary Mason`,`Carla Gentry`,`Corinna Cortes`.\n",
    "\n",
    "\n",
    "* Concatenate the `'class_1'` and `'class_2'`. Store the values in variable `'new_class'`.\n",
    "\n",
    "\n",
    "*  Print the `'new_class'` to see the new list.\n",
    "\n",
    "\n",
    "You can now see the students list. \n",
    "\n",
    "Oops. Looks like we might have missed a student whose name is `Peter Warden`. Lets add him in the new register. \n",
    "\n",
    "* Add new element `Peter Warden` in the list `'new_class'`. Use `\"append()\"` to add new element in the list.\n",
    "\n",
    "\n",
    "* Print `'new_class'` to see the updated list.\n",
    "\n",
    "It seems like there could also be a wrong entry in the list whose name is `Carla Gentry`. Let's remove her from the register.\n",
    "\n",
    "*  Remove the element `Carla Gentry` from list `'new_class'`. Use `\"remove()\"` to remove the element from the list.\n",
    "\n",
    "\n",
    "* Print `'new_class'` to see the updated list.\n",
    "\n"
   ]
  },
  {
   "cell_type": "markdown",
   "metadata": {},
   "source": [
    "#Hint\n",
    "You can append name to list by writing code similar to :\n",
    "\n",
    "`new_class.append('Peter Warden')`\n",
    "    \n",
    "You can remove name from list by writing code similar to :\n",
    "\n",
    "`new_class.remove('Carla Gentry')`\n",
    "\n",
    "\n",
    "    \n",
    "\n",
    "#Test case\n",
    "- Checking `new_cls`\n",
    "- Checking `new_cls` after append\n",
    "- Checking `new_cls` after remove"
   ]
  },
  {
   "cell_type": "code",
   "execution_count": 7,
   "metadata": {},
   "outputs": [
    {
     "name": "stdout",
     "output_type": "stream",
     "text": [
      "['Geoffrey Hinton', 'Andrew Ng', 'Sebastian Raschka', 'Yoshua Bengio', 'Hilary Mason', 'Carla Gentry', 'Corinna Cortes']\n",
      "['Geoffrey Hinton', 'Andrew Ng', 'Sebastian Raschka', 'Yoshua Bengio', 'Hilary Mason', 'Carla Gentry', 'Corinna Cortes', 'Peter Warden']\n",
      "['Geoffrey Hinton', 'Andrew Ng', 'Sebastian Raschka', 'Yoshua Bengio', 'Hilary Mason', 'Corinna Cortes', 'Peter Warden']\n"
     ]
    }
   ],
   "source": [
    "# Code starts here\n",
    "\n",
    "# Create the lists \n",
    "class_1 = ['Geoffrey Hinton','Andrew Ng','Sebastian Raschka','Yoshua Bengio' ]\n",
    "class_2 = ['Hilary Mason','Carla Gentry','Corinna Cortes']\n",
    "\n",
    "# Concatenate both the strings\n",
    "new_class = (class_1 + class_2)\n",
    "print (new_class)\n",
    "\n",
    "\n",
    "# Append the list\n",
    "new_class.append('Peter Warden')\n",
    "\n",
    "# Print updated list\n",
    "print(new_class)\n",
    "\n",
    "\n",
    "# Remove the element from the list\n",
    "new_class.remove('Carla Gentry')\n",
    "\n",
    "# Print the list\n",
    "print(new_class)\n",
    "\n",
    "# Code ends here"
   ]
  },
  {
   "cell_type": "markdown",
   "metadata": {},
   "source": [
    "## Success Message:\n",
    "\n",
    "Congrats! You have successfully created the Student Roster list."
   ]
  },
  {
   "cell_type": "markdown",
   "metadata": {},
   "source": [
    "# Report Card Creation\n",
    " \n",
    "Let's create a dictionary for `Geoffrey Hinton` in each subject to get his report card. By doing so, you will get an idea about the student.\n",
    "\n",
    "\n",
    "\n",
    "## Instructions:\n",
    "\n",
    "* Create a dictionary named `'Subject'` with keys as `Math, English, History, Hindi and Science` and respective values as `65, 70, 80, 70, 60 `.\n",
    "\n",
    "\n",
    "* See the marks obtained in each subject by calling the subject key from the dictionary.\n",
    "\n",
    "\n",
    "* Use `\"dictionary_name['value']\"` to get the value of the particular key . \n",
    "\n",
    "* Add all the values and store it in a variable `'Total'`.\n",
    "\n",
    "\n",
    "* Print `'Total'`.\n",
    "\n",
    "\n",
    "* Calculate the percentage by dividing `'Total'` by 500 and then multiplying it by 100. Store the result in a variable called `'Percentage'`\n",
    "\n",
    "\n",
    "* Print the `'Percentage'`\n"
   ]
  },
  {
   "cell_type": "markdown",
   "metadata": {},
   "source": [
    "#Hints\n",
    "\n",
    "* Use `Subject['Math']` to get the marks of a math subject and store it in variable `Math`.\n",
    "\n",
    "    You can write code similar to :\n",
    "\n",
    "    `Math = subject['Math']`\n",
    "\n",
    " Similarly, do this for all the other keys.\n",
    "\n",
    "\n",
    "\n",
    "* Use `(Total *100 /500)` to calculate the percentage and store them in variable `Percentage`.\n",
    "\n",
    "#Test case\n",
    "\n",
    "- Check the dictionary\n",
    "- Check the `Total` value\n",
    "- Check `Percentage` value"
   ]
  },
  {
   "cell_type": "code",
   "execution_count": 2,
   "metadata": {},
   "outputs": [
    {
     "name": "stdout",
     "output_type": "stream",
     "text": [
      "345\n",
      "69.0\n"
     ]
    }
   ],
   "source": [
    "# Code starts here\n",
    "\n",
    "# Create the Dictionary\n",
    "\n",
    "subject={'Math':65,'English':70,'History':80,'Hindi':70,'Science':60}\n",
    "\n",
    "\n",
    "# Slice the dict and stores  the all subjects marks in variable\n",
    "\n",
    "Math = subject['Math']\n",
    "English = subject['English']\n",
    "History = subject['History']\n",
    "Hindi = subject['Hindi']\n",
    "Science = subject['Science']\n",
    "\n",
    "# Store the all the subject in one variable `Total`\n",
    "Total = Math + English + History + Hindi + Science\n",
    "\n",
    "# Print the total\n",
    "print (Total)\n",
    "\n",
    "# Insert percentage formula\n",
    "Percentage = (Total * 100 / 500)\n",
    "\n",
    "# Print the percentage\n",
    "print(Percentage)\n",
    "# Code ends here"
   ]
  },
  {
   "cell_type": "markdown",
   "metadata": {},
   "source": [
    "## Success Message:\n",
    "\n",
    "Congrats! You have successfully found out the percentage scored by Geoffrey."
   ]
  },
  {
   "cell_type": "markdown",
   "metadata": {},
   "source": [
    "# Mathematics Topper\n",
    "\n",
    "For the student who has got the highest marks in this subject, the scholl has decided to award a Scholarship.\n",
    "Let's check who performed best in mathematics from all the students who appeared for the test. \n",
    "\n",
    "## Instructions: \n",
    "\n",
    "* Create a dictionary named `'Mathematics'` with keys as `Geoffrey Hinton,Andrew Ng,Sebastian Raschka,Yoshua Bengio` and values as `78, 95, 65, 50 `.\n",
    "\n",
    "\n",
    "\n",
    "* Use `\"max(dictionary_name,key = dictionary_name.get)\"` to find out the student with highest marks in Mathematics and store it in a variable `'Topper'`"
   ]
  },
  {
   "cell_type": "markdown",
   "metadata": {},
   "source": [
    "#Hints\n",
    "you can get the topper name by writing the code similar to:\n",
    "    \n",
    "`Topper=max(Mathematics,key = Mathematics.get)`\n",
    "\n",
    "\n",
    "#Test case\n",
    "\n",
    "- Checking name"
   ]
  },
  {
   "cell_type": "code",
   "execution_count": 3,
   "metadata": {},
   "outputs": [
    {
     "name": "stdout",
     "output_type": "stream",
     "text": [
      "Andrew Ng\n"
     ]
    }
   ],
   "source": [
    "# Code starts here\n",
    "\n",
    "# Create the Dictionary\n",
    "Mathematics = {'Andrew Ng':95, 'Geoffrey Hinton': 78, 'Sebastian Raschka': 65, 'Yoshua Benjio':50}\n",
    "\n",
    "Topper = max(Mathematics,key = Mathematics.get)\n",
    "print(Topper)\n",
    "\n",
    "# Code ends here    "
   ]
  },
  {
   "cell_type": "markdown",
   "metadata": {},
   "source": [
    "## Success Message:\n",
    "\n",
    "Congrats! You have identified the 'Maths' topper"
   ]
  },
  {
   "cell_type": "markdown",
   "metadata": {},
   "source": [
    "# Certificate Name\n",
    "\n",
    "From the previous task we know who is the 'Maths' topper in the class. You now have to print the name of the student on the certificate, but you will have to print his last name and then his first name. \n",
    "\n",
    "\n",
    "## Instruction\n",
    "\n",
    "* String name `'Topper'` with the Maths topper's name is given\n",
    "\n",
    "\n",
    "* Print first six words in the string `'First_name'`. Use `\"Topper[0:6]\"`to see the first name in the string.\n",
    "\n",
    "\n",
    "* Print last two words in the string `'Last_name'`. Use `\"Topper[-2:]\"` to see the last name in the string.\n",
    "\n",
    "\n",
    "* Concatenate the strings `'Last_name'` and  `'First_name'` and store it in a new variable `'Full_name'`\n",
    "\n",
    "\n",
    "* Convert all the elements in the string `'Full_name'` to uppercase using `\"upper()\"` and store it to the variable `'Certificate_Name'`\n",
    "\n",
    "\n",
    "* Print `'Certificate_Name'`."
   ]
  },
  {
   "cell_type": "markdown",
   "metadata": {},
   "source": [
    "#Hints\n",
    "You can get first name by writing code similar to :\n",
    "\n",
    "`First_name = (Topper[0:6])`\n",
    "    \n",
    "You can get last name by writing code similar to :\n",
    "\n",
    "`Last_name = (Topper[-2:])`\n",
    "    \n",
    "You can convert letters in uppercase by writing code similar to :\n",
    "\n",
    "`Certificate_Name = Full_name.upper()`\n",
    "\n",
    "#Test case\n",
    "\n",
    "- Checking the count\n",
    "- Checking the word\n",
    "- Checking the string(for replacement)\n",
    "- Checking the string (for uppercase)"
   ]
  },
  {
   "cell_type": "code",
   "execution_count": 4,
   "metadata": {},
   "outputs": [
    {
     "name": "stdout",
     "output_type": "stream",
     "text": [
      "andrew\n",
      "ng\n",
      "ng andrew\n",
      "NG ANDREW\n"
     ]
    }
   ],
   "source": [
    "# Given string\n",
    "Topper = 'andrew ng'\n",
    "\n",
    "\n",
    "# Code starts here\n",
    "\n",
    "\n",
    "# Create variable first_name and store first six element in the list \n",
    "First_name = (Topper[0:6])\n",
    "print (First_name)\n",
    "\n",
    "# Create variable Last_name and store last two element in the list\n",
    "Last_name = (Topper[-2:])\n",
    "print (Last_name)\n",
    "\n",
    "# Concatenate the string\n",
    "Full_name = Last_name + ' ' + First_name\n",
    "\n",
    "# print the full_name\n",
    "print (Full_name)\n",
    "\n",
    "# print the name in upper case\n",
    "Certificate_Name = Full_name.upper()\n",
    "\n",
    "print (Certificate_Name)\n",
    "\n",
    "# Code ends here"
   ]
  },
  {
   "cell_type": "markdown",
   "metadata": {},
   "source": [
    "## Success Message:\n",
    "\n",
    "Congrats! You have successfully converted his name for the certificate."
   ]
  },
  {
   "cell_type": "code",
   "execution_count": null,
   "metadata": {},
   "outputs": [],
   "source": []
  }
 ],
 "metadata": {
  "kernelspec": {
   "display_name": "Python 3",
   "language": "python",
   "name": "python3"
  },
  "language_info": {
   "codemirror_mode": {
    "name": "ipython",
    "version": 3
   },
   "file_extension": ".py",
   "mimetype": "text/x-python",
   "name": "python",
   "nbconvert_exporter": "python",
   "pygments_lexer": "ipython3",
   "version": "3.6.4"
  }
 },
 "nbformat": 4,
 "nbformat_minor": 2
}
