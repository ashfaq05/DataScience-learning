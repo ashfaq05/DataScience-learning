{
 "cells": [
  {
   "cell_type": "code",
   "execution_count": 13,
   "metadata": {},
   "outputs": [],
   "source": [
    "# import the modules\n",
    "import warnings\n",
    "warnings.filterwarnings('ignore')\n",
    "\n",
    "import pandas as pd \n",
    "import numpy as np\n",
    "import matplotlib.pyplot as plt\n",
    "from scipy.stats import chi2_contingency\n",
    "import scipy.stats as stats\n",
    "from sklearn.model_selection import train_test_split\n",
    "from sklearn.linear_model import LinearRegression\n",
    "from sklearn.metrics import r2_score,mean_squared_error\n",
    "from sklearn.model_selection import GridSearchCV, RandomizedSearchCV\n",
    "from sklearn.linear_model import Ridge,Lasso\n"
   ]
  },
  {
   "cell_type": "markdown",
   "metadata": {},
   "source": [
    "### Load the dataset\n",
    "\n",
    "- Load the train data and using all your knowledge try to explore the different statistical properties of the dataset."
   ]
  },
  {
   "cell_type": "code",
   "execution_count": 14,
   "metadata": {},
   "outputs": [
    {
     "name": "stdout",
     "output_type": "stream",
     "text": [
      "     Id  total_net_assets  net_annual_expenses_ratio  morningstar_rating  \\\n",
      "0  3768            211000                       1.90                   3   \n",
      "1  6244          98930000                       1.57                   2   \n",
      "2  2230         440000000                       0.53                   4   \n",
      "3  7518          56050000                       0.93                   3   \n",
      "4  8037         173040000                       2.26                   2   \n",
      "\n",
      "   portfolio_cash  portfolio_stocks  portfolio_bonds  portfolio_others  \\\n",
      "0            0.95             99.05             0.00              0.00   \n",
      "1            0.00              0.00           100.00              0.00   \n",
      "2            1.71              0.00            98.29              0.00   \n",
      "3            2.64             31.29            57.06              0.80   \n",
      "4            5.24             94.75             0.00              0.01   \n",
      "\n",
      "   portfolio_preferred  portfolio_convertable  ...  category_102  \\\n",
      "0                 0.00                   0.00  ...           0.0   \n",
      "1                 0.00                   0.00  ...           0.0   \n",
      "2                 0.00                   0.00  ...           0.0   \n",
      "3                 7.62                   0.58  ...           0.0   \n",
      "4                 0.00                   0.00  ...           0.0   \n",
      "\n",
      "   category_103  category_104  category_105  category_106  category_107  \\\n",
      "0           0.0           0.0           0.0           0.0           0.0   \n",
      "1           0.0           0.0           0.0           0.0           0.0   \n",
      "2           0.0           0.0           0.0           0.0           0.0   \n",
      "3           0.0           0.0           0.0           0.0           0.0   \n",
      "4           0.0           0.0           0.0           0.0           0.0   \n",
      "\n",
      "   investment_0  investment_1  investment_2  bonds_aaa  \n",
      "0           0.0           1.0           0.0       0.00  \n",
      "1           1.0           0.0           0.0       0.65  \n",
      "2           1.0           0.0           0.0      93.20  \n",
      "3           1.0           0.0           0.0       2.64  \n",
      "4           1.0           0.0           0.0       0.00  \n",
      "\n",
      "[5 rows x 153 columns]\n"
     ]
    }
   ],
   "source": [
    "# Code starts here\n",
    "train = pd.read_csv(\"train.csv\")\n",
    "\n",
    "# drop serial number\n",
    "train.drop(columns='Serial Number',inplace=True)\n",
    "print(train.head())\n",
    "\n",
    "\n",
    "\n",
    "# Code ends here"
   ]
  },
  {
   "cell_type": "markdown",
   "metadata": {},
   "source": [
    "### Visualize the data\n",
    "\n",
    "- Check for the categorical & continuous features. \n",
    "- Check out the best plots for plotting between categorical target and continuous features and try making some inferences from these plots.\n",
    "- Check for the correlation between the features and do some Hypothesis Testing to see if there is strong association between features.\n",
    "- Clean the data, remove correlated features and apply some data preprocessing techniques"
   ]
  },
  {
   "cell_type": "code",
   "execution_count": 15,
   "metadata": {},
   "outputs": [
    {
     "name": "stdout",
     "output_type": "stream",
     "text": [
      "p value\n",
      "0.00032309085443671745\n",
      "Chi Statistic\n",
      "23.099539737235563\n"
     ]
    }
   ],
   "source": [
    "# Code starts here\n",
    "\n",
    "\n",
    "\n",
    "\n",
    "\"\"\" Perform Hypothesis Testing\n",
    "The bank suspects is that there is a strong assosciation between `morningstar return rating`  and `morningstar risk rating`. \n",
    "Now let's check it by using null hypothesis. Since both are categorical columns, we will do chi-square test to test the same.\n",
    "\n",
    "- Null Hypothesis : Both the features are independent from each other.\n",
    "- Alternative Hypothesis : Both features are dependent on each other.\n",
    "\n",
    "\"\"\" \n",
    "# Critical value \n",
    "critical_value = stats.chi2.ppf(q = 0.95, # Find the critical value for 95% confidence*\n",
    "                      df = 11)   # Df = number of variable categories(in purpose) - 1\n",
    "\n",
    "# Subsetting the dataframe\n",
    "return_rating = train.morningstar_return_rating.value_counts()\n",
    "risk_rating = train.morningstar_risk_rating.value_counts()\n",
    "\n",
    "#Concating yes and no into a single dataframe\n",
    "observed=pd.concat([return_rating.transpose(),risk_rating.transpose()], axis = 1,keys=['return','risk'])\n",
    "\n",
    "chi2, p, dof, ex = chi2_contingency(observed)\n",
    "\n",
    "\n",
    "print(\"p value\")\n",
    "print(p)\n",
    "\n",
    "\n",
    "print(\"Chi Statistic\")\n",
    "print(chi2)\n"
   ]
  },
  {
   "cell_type": "code",
   "execution_count": 16,
   "metadata": {},
   "outputs": [
    {
     "name": "stdout",
     "output_type": "stream",
     "text": [
      "morningstar_rating         morningstar_return_rating    0.964080\n",
      "morningstar_return_rating  morningstar_rating           0.964080\n",
      "portfolio_bonds            portfolio_stocks             0.917010\n",
      "portfolio_stocks           portfolio_bonds              0.917010\n",
      "category_12                portfolio_convertable        0.899705\n",
      "portfolio_convertable      category_12                  0.899705\n",
      "mean_annual_return_3y      sharpe_ratio_3y              0.766910\n",
      "sharpe_ratio_3y            mean_annual_return_3y        0.766910\n",
      "dtype: float64\n"
     ]
    }
   ],
   "source": [
    "# Remove Correlated Feature\n",
    "\n",
    "# check the correlation\n",
    "correlation = train.corr().abs()\n",
    "\n",
    "# unstack and sort the values\n",
    "us_correlation = correlation.unstack()\n",
    "us_correlation = us_correlation.sort_values(ascending=False)\n",
    "\n",
    "# max correlated features between 0.75 to 1\n",
    "max_correlated = us_correlation[(us_correlation>0.75) & (us_correlation<1)]\n",
    "\n",
    "\n",
    "print(max_correlated)"
   ]
  },
  {
   "cell_type": "code",
   "execution_count": 17,
   "metadata": {},
   "outputs": [],
   "source": [
    "# drop highly correlated features\n",
    "train.drop(columns=['morningstar_rating','portfolio_stocks','category_12','sharpe_ratio_3y'],inplace=True)\n"
   ]
  },
  {
   "cell_type": "code",
   "execution_count": 18,
   "metadata": {},
   "outputs": [
    {
     "data": {
      "text/plain": [
       "[Text(0.5, 1.0, 'net_annual_expenses_ratio')]"
      ]
     },
     "execution_count": 18,
     "metadata": {},
     "output_type": "execute_result"
    },
    {
     "data": {
      "image/png": "[encoded data removed]",
      "text/plain": [
       "<Figure size 1440x576 with 2 Axes>"
      ]
     },
     "metadata": {
      "needs_background": "light"
     },
     "output_type": "display_data"
    }
   ],
   "source": [
    "# Plot the box plot for price_earning and net_annual_expenses. So that we can check the outlier.\n",
    "\n",
    "#Setting up the subplots\n",
    "fig, (ax_1, ax_2) = plt.subplots(1,2, figsize=(20,8))\n",
    "\n",
    "#Plotting box plot\n",
    "ax_1.boxplot(train['price_earning'])\n",
    "\n",
    "#Setting the subplot axis title\n",
    "ax_1.set(title='price_earning')\n",
    "\n",
    "#Plotting box plot\n",
    "ax_2.boxplot(train['net_annual_expenses_ratio'])\n",
    "\n",
    "#Setting the subplot axis title\n",
    "ax_2.set(title='net_annual_expenses_ratio')\n"
   ]
  },
  {
   "cell_type": "markdown",
   "metadata": {},
   "source": [
    "### Model building\n",
    "\n",
    "- Separate the features and target.\n",
    "- Now let's come to the actual task, using linear regression, predict the `bonds_aaa`. Use different techniques you have learned to imporove the performance of the model.\n",
    "- Try improving upon the square root of `mean_squared_error` ([Root Mean Squared Error](https://scikit-learn.org/stable/modules/generated/sklearn.metrics.mean_squared_error.html)) using different parameters that give the best score.\n"
   ]
  },
  {
   "cell_type": "code",
   "execution_count": 19,
   "metadata": {},
   "outputs": [
    {
     "name": "stdout",
     "output_type": "stream",
     "text": [
      "RMSE:  16.063572903455963\n"
     ]
    }
   ],
   "source": [
    "# Code Starts here\n",
    "\n",
    "# Split the data into train and test\n",
    "X = train.drop(columns = ['bonds_aaa'])\n",
    "y = train[['bonds_aaa']]\n",
    "\n",
    "X_train, X_test, y_train, y_test = train_test_split(X, y, test_size=0.3, random_state=3)\n",
    "\n",
    "# Instantiate linear model\n",
    "lr = LinearRegression()\n",
    "\n",
    "# fit the model on training data\n",
    "lr.fit(X_train,y_train)\n",
    "\n",
    "# predict on test\n",
    "y_pred = lr.predict(X_test)\n",
    "\n",
    "#Calculate rmse\n",
    "rmse = np.sqrt(mean_squared_error(y_pred,y_test))\n",
    "print(\"RMSE: \", rmse)\n",
    "\n",
    "\n",
    "# Code ends here"
   ]
  },
  {
   "cell_type": "code",
   "execution_count": 20,
   "metadata": {},
   "outputs": [
    {
     "name": "stdout",
     "output_type": "stream",
     "text": [
      "Ridge RMSE: 16.065306137431957\n",
      "Lasso RMSE: 16.08126906729195\n"
     ]
    }
   ],
   "source": [
    "# predict the `bonds_aaa` using lasso regressor and ridge regressor with the help of gridsearch cv to improve the prediction.\n",
    "\n",
    "# regularization parameters for grid search\n",
    "ridge_lambdas = [0.01, 0.03, 0.06, 0.1, 0.3, 0.6, 1, 3, 6, 10, 30, 60]\n",
    "lasso_lambdas = [0.0001, 0.0003, 0.0006, 0.001, 0.003, 0.006, 0.01, 0.03, 0.06, 0.1, 0.3, 0.6, 1]\n",
    "\n",
    "# Code starts here\n",
    "\n",
    "# Instantiate ridge models\n",
    "ridge_model = Ridge()\n",
    "\n",
    "# apply ridge model\n",
    "ridge_grid = GridSearchCV(estimator=ridge_model, param_grid=dict(alpha=ridge_lambdas))\n",
    "ridge_grid.fit(X_train, y_train)\n",
    "\n",
    "# make predictions \n",
    "ridge_pred = ridge_grid.predict(X_test)\n",
    "ridge_rmse = np.sqrt(mean_squared_error(ridge_pred, y_test))\n",
    "print(\"Ridge RMSE:\", ridge_rmse)\n",
    "\n",
    "# Instantiate lasso models\n",
    "lasso_model = Lasso()\n",
    "\n",
    "# apply lasso model\n",
    "lasso_grid = GridSearchCV(estimator=lasso_model, param_grid=dict(alpha=lasso_lambdas))\n",
    "lasso_grid.fit(X_train, y_train)\n",
    "\n",
    "# make predictions\n",
    "lasso_pred = lasso_grid.predict(X_test)\n",
    "lasso_rmse = np.sqrt(mean_squared_error(lasso_pred, y_test))\n",
    "print(\"Lasso RMSE:\", lasso_rmse)"
   ]
  },
  {
   "cell_type": "markdown",
   "metadata": {},
   "source": [
    "### Prediction on the test data and creating the sample submission file.\n",
    "\n",
    "- Load the test data and store the `Id` column in a separate variable.\n",
    "- Perform the same operations on the test data that you have performed on the train data.\n",
    "- Create the submission file as a `csv` file consisting of the `Id` column from the test data and your prediction as the second column."
   ]
  },
  {
   "cell_type": "code",
   "execution_count": 22,
   "metadata": {},
   "outputs": [],
   "source": [
    "# Code Starts here\n",
    "# Prediction on test data\n",
    "\n",
    "# Read the test data\n",
    "test = pd.read_csv('test.csv')\n",
    "\n",
    "# Storing the id from the test file\n",
    "id_ = test['Id']\n",
    "\n",
    "# Dropping the same columns from the test data and applying same transformation\n",
    "# Apply the transformations on X_test(remove correlated features)\n",
    "test.drop(columns=['Serial Number','morningstar_rating','portfolio_stocks','category_12','sharpe_ratio_3y'],inplace=True)\n",
    "\n",
    "\n",
    "# Predict on the test data\n",
    "y_pred_test = lr.predict(test)\n",
    "y_pred_test = y_pred_test.flatten()\n",
    "\n",
    "# Create a sample submission file\n",
    "sample_submission = pd.DataFrame({'Id':id_,'bonds_aaa':y_pred_test})\n",
    "\n",
    "# Convert the sample submission file into a csv file\n",
    "sample_submission.to_csv('sample_submission.csv',index=False)\n",
    "\n",
    "# Code ends here"
   ]
  }
 ],
 "metadata": {
  "kernelspec": {
   "display_name": "Python 3",
   "language": "python",
   "name": "python3"
  },
  "language_info": {
   "codemirror_mode": {
    "name": "ipython",
    "version": 3
   },
   "file_extension": ".py",
   "mimetype": "text/x-python",
   "name": "python",
   "nbconvert_exporter": "python",
   "pygments_lexer": "ipython3",
   "version": "3.7.3"
  }
 },
 "nbformat": 4,
 "nbformat_minor": 2
}
