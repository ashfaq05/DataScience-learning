{
 "cells": [
  {
   "cell_type": "markdown",
   "metadata": {
    "slideshow": {
     "slide_type": "slide"
    }
   },
   "source": [
    "# Inferential Statistics\n",
    "\n",
    "\n",
    "\n",
    "## Problem Statement\n",
    "\n",
    "`Bank Of New York` wants to expand its branches and for that it has certain hypothesis and statements it wants to verify. Using the inferential statistics method you just learned, help the bank.\n",
    "\n",
    "\n",
    "## About the Dataset\n",
    "\n",
    "The snapshot of the data you will be working on:\n",
    "\n",
    "![dtdataset](../images/is_dataset.PNG)\n",
    "\n",
    "\n",
    "It has data of 9578 customers with the following 15 features:\n",
    "\n",
    "|Feature|Description|\n",
    "|-----|-----|\n",
    "|customer.id|ID of the customer|\n",
    "|credit.policy|If the customer meets the credit underwriting criteria of LendingClub.com or not|\n",
    "|purpose|The purpose of the loan(takes values :\"credit_card\", \"debt_consolidation\", \"educational\", \"major_purchase\", \"small_business\", and \"all_other\").|\n",
    "|int.rate|The interest rate of the loan|\n",
    "|installment|The monthly installments owed by the borrower if the loan is funded|\n",
    "|log.annual.inc|The natural log of the self-reported annual income of the borrower|\n",
    "|dti|The debt-to-income ratio of the borrower (amount of debt divided by annual income)|\n",
    "|fico|The FICO credit score of the borrower|\n",
    "|days.with.cr.line|The number of days the borrower has had a credit line.|\n",
    "|revol.bal|The borrower's revolving balance (amount unpaid at the end of the credit card billing cycle)|\n",
    "|revol.util|The borrower's revolving line utilization rate (the amount of the credit line used relative to total credit available)|\n",
    "|pub.rec| The borrower's number of derogatory public records (bankruptcy filings, tax liens, or judgments)\n",
    "|inq.last.6mths| The borrower's number of inquiries by creditors in the last 6 months|\n",
    "|delinq.2yrs| The number of times the borrower had been 30+ days past due on a payment in the past 2 years|\n",
    "|paid.back.loan|Whether the user has paid back loan|\n",
    "\n",
    "\n",
    "## Why solve this project ?\n",
    "\n",
    "After completing this project, you will have a better understanding of how to use inferential statistics. In this project, you will apply the following concepts:\n",
    "\n",
    "* Confidence Interval\n",
    "\n",
    "* Central Limit Theorem\n",
    "\n",
    "* Hypothesis Testing\n",
    "\n",
    "* Chi Square Test\n"
   ]
  },
  {
   "cell_type": "markdown",
   "metadata": {
    "slideshow": {
     "slide_type": "slide"
    }
   },
   "source": [
    "# Confidence Interval\n",
    "\n",
    "Our first task will involve loading data and finding the confidence interval.\n",
    "\n",
    "* Load the dataset from `'path'`(given) and store it in a variable called `'data'`. \n",
    "\n",
    "\n",
    "* Create a sample of `'data'` using `\"sample()\"` with `n=sample_size` and `random_state=0` and save it in a variable called `'data_sample'`\n",
    "\n",
    "\n",
    "* Store the mean of `installment` column of `'sample_data'` in a variable called `'sample_mean'` \n",
    "\n",
    "\n",
    "* Store the standard deviation of `installment` column of `'sample_data'` in a variable called `'sample_std'`\n",
    "\n",
    "\n",
    "* Find the margin of error using `'z_critical'`(given),`'sample_std'` and `'sample_size'` and save it in a variable called `'margin_of_error'`\n",
    "\n",
    "\n",
    "* Find the confindence interval using `'sample_mean'` and `'margin_of_error'` and save it in a variable called `'confidence_interval'`.\n",
    "\n",
    "\n",
    "* Store the mean of `installment` column of `'data'` in a variable called `'true_mean'` \n",
    "\n",
    "\n",
    "* Print and check if `'true_mean'` falls in the range of `'confidence_interval'`"
   ]
  },
  {
   "cell_type": "markdown",
   "metadata": {
    "slideshow": {
     "slide_type": "slide"
    }
   },
   "source": [
    "# Hints\n",
    "\n",
    "Formula for `margin_of_error` is :\n",
    "\n",
    "`\"z_critical * (sample_std/math.sqrt(sample_size))\"`\n",
    "\n",
    "Formula for `confidence_interval` is:\n",
    "\n",
    "`\"(sample_mean - margin_of_error,\n",
    "   sample_mean + margin_of_error)\"`\n",
    "\n",
    "# Test Cases\n",
    "\n",
    "#data\n",
    "\n",
    "Variable declaration check\n",
    "\n",
    "type(data)==pd.core.frame.DataFrame\n",
    "\n",
    "data.shape==(9578, 15)\n",
    "\n",
    "data.iloc[7,7]==722\n",
    "\n",
    "\n",
    "#data_sample\n",
    "\n",
    "Variable Declaration\n",
    "\n",
    "type(data_sample)==pd.core.frame.DataFrame\n",
    "\n",
    "data_sample.shape==(2000, 15)\n",
    "\n",
    "data_sample.iloc[7,7]==737\n",
    "\n",
    "#sample_mean\n",
    "\n",
    "Variable declaration check\n",
    "\n",
    "round(sample_mean,2)==round(317.610965,2)\n",
    "\n",
    "#sample_std\n",
    "\n",
    "Variable declaration check\n",
    "\n",
    "round(sample_std,2)==round(207.64991593475935,2)\n",
    "\n",
    "#margin_of_error\n",
    "\n",
    "Variable declaration check\n",
    "\n",
    "round(margin_of_error,2)==round(7.637373299879684,2)\n",
    "\n",
    "#confidence_interval\n",
    "\n",
    "Variable declaration check\n",
    "\n",
    "round(confidence_interval[0],2)==round(309.9735917001203,2)\n",
    "\n",
    "round(confidence_interval[1],2)==round(325.2483382998797,2)\n",
    "\n",
    "\n",
    "#true_mean\n",
    "\n",
    "Variable declaration check\n",
    "\n",
    "round(true_mean,2)==round(319.08941323867197,2)"
   ]
  },
  {
   "cell_type": "code",
   "execution_count": 36,
   "metadata": {
    "slideshow": {
     "slide_type": "subslide"
    }
   },
   "outputs": [
    {
     "name": "stdout",
     "output_type": "stream",
     "text": [
      "Confidence interval:\n",
      "(309.9735917001203, 325.2483382998797)\n",
      "True mean: 319.08941323867197\n"
     ]
    },
    {
     "data": {
      "text/plain": [
       "319.09"
      ]
     },
     "execution_count": 36,
     "metadata": {},
     "output_type": "execute_result"
    }
   ],
   "source": [
    "import pandas as pd\n",
    "import scipy.stats as stats\n",
    "import math\n",
    "import numpy as np\n",
    "import warnings\n",
    "\n",
    "warnings.filterwarnings('ignore')\n",
    "#Sample_Size\n",
    "sample_size=2000\n",
    "\n",
    "#Z_Critical Score\n",
    "z_critical = stats.norm.ppf(q = 0.95)  \n",
    "\n",
    "#Path\n",
    "path='../data/cleaned_loan_data.csv'\n",
    "\n",
    "#Code starts here\n",
    "\n",
    "#Reading file\n",
    "data=pd.read_csv(path)\n",
    "\n",
    "#Sampling the dataframe\n",
    "data_sample = data.sample(n=sample_size, random_state=0)\n",
    "\n",
    "\n",
    "#Finding the mean of the sample\n",
    "sample_mean = data_sample['installment'].mean()\n",
    "\n",
    "#Finding the standard deviation of the sample\n",
    "sample_std = data_sample['installment'].std()\n",
    "\n",
    "#Finding the margin of error\n",
    "margin_of_error = z_critical * (sample_std/math.sqrt(sample_size))\n",
    "\n",
    "#Finding the confidence interval\n",
    "confidence_interval = (sample_mean - margin_of_error,\n",
    "                       sample_mean + margin_of_error)  \n",
    "\n",
    "print(\"Confidence interval:\")\n",
    "print(confidence_interval)\n",
    "\n",
    "#Finding the true mean\n",
    "true_mean=data['installment'].mean()\n",
    "\n",
    "print((\"True mean: {}\".format(true_mean)))\n",
    "\n",
    "#Code ends here\n",
    "round(319.08941323867197,2)"
   ]
  },
  {
   "cell_type": "markdown",
   "metadata": {
    "slideshow": {
     "slide_type": "notes"
    }
   },
   "source": [
    "# Success Message\n",
    "\n",
    "Congrats! You have successfully loaded the data and found the confidence interval"
   ]
  },
  {
   "cell_type": "code",
   "execution_count": null,
   "metadata": {},
   "outputs": [],
   "source": []
  },
  {
   "cell_type": "markdown",
   "metadata": {
    "slideshow": {
     "slide_type": "skip"
    }
   },
   "source": [
    "# CLT \n",
    "\n",
    "Let's now find out if Central Limit Theorem holds for `installment` column\n",
    "\n",
    "* An array of sample sizes to take(`'sample_size'`) is given \n",
    " \n",
    " \n",
    "* Create subplot with `(nrows = 3 , ncols = 1)` and store it in variable's `fig ,axes`\n",
    "\n",
    "\n",
    "* Create `i` loop with range `(len(sample_size))`. \n",
    "\n",
    "\n",
    "* Inside the `i` loop, initialise a list `'m'` and  create `j` loop with range `(1000)`(for no. of samples=`1000')\n",
    "\n",
    "\n",
    "* Inside the `j` loop create a dataset sample of `data` with `sample_size`==`sample_size[i]` using `\"sample()\"`, find the mean of `installment` column of that sample and append it to list `'m'`\n",
    "\n",
    "\n",
    "* Outside the `j` loop(but still inside the `i` loop), convert `'m'` into a series called `'mean_series'`\n",
    "\n",
    "\n",
    "* Then, using axes[i], plot the corresponding histogram for `mean_series`\n",
    "\n",
    "\n",
    "\n",
    "### Things to ponder upon:\n",
    "\n",
    "         * Does the central limit theory hold for the `installment` column?"
   ]
  },
  {
   "cell_type": "markdown",
   "metadata": {
    "slideshow": {
     "slide_type": "slide"
    }
   },
   "source": [
    "# Hints\n",
    "\n",
    "You can create series of mean values of sample sizes by writing code similar to:\n",
    "\n",
    "``` python\n",
    "for j in range(1000):\n",
    "        \n",
    "        mean=data['installment'].sample(sample_size[i]).mean()\n",
    "        m.append(mean)\n",
    "\n",
    "    mean_series=pd.Series(m)   \n",
    "```\n",
    "\n",
    "\n",
    "# Test Cases\n",
    "\n",
    "#mean_series\n",
    "\n",
    "Variable Declaration\n",
    "\n",
    "np.round(mean_series[10],2)==np.round(324.77,2)"
   ]
  },
  {
   "cell_type": "code",
   "execution_count": 19,
   "metadata": {},
   "outputs": [
    {
     "name": "stdout",
     "output_type": "stream",
     "text": [
      "307.64\n"
     ]
    },
    {
     "data": {
      "image/png": "[encoded data removed]",
      "text/plain": [
       "<Figure size 720x1440 with 3 Axes>"
      ]
     },
     "metadata": {},
     "output_type": "display_data"
    }
   ],
   "source": [
    "import matplotlib.pyplot as plt\n",
    "import numpy as np\n",
    "\n",
    "%matplotlib inline\n",
    "\n",
    "#Different sample sizes to take\n",
    "sample_size=np.array([20,50,100])\n",
    "\n",
    "#Code starts here\n",
    "\n",
    "\n",
    "\n",
    "#Creating different subplots\n",
    "fig,axes=plt.subplots(3,1, figsize=(10,20))\n",
    "\n",
    "#Running loop to iterate through rows\n",
    "for i in range(len(sample_size)):\n",
    "    \n",
    "    #Initialising a list\n",
    "    m=[]\n",
    "    \n",
    "    #Loop to implement the no. of samples\n",
    "    for j in range(5000):\n",
    "        \n",
    "        #Finding mean of a random sample\n",
    "        mean=data['installment'].sample(sample_size[i]).mean()\n",
    "        \n",
    "        #Appending the mean to the list\n",
    "        m.append(mean)\n",
    "        \n",
    "        \n",
    "    #Converting the list to series\n",
    "    mean_series=pd.Series(m)   \n",
    "\n",
    "    #Plotting the histogram for the series\n",
    "    axes[i].hist(mean_series, normed=True)\n",
    "\n",
    "    \n",
    "\n",
    "#Displaying the plot\n",
    "plt.show()\n",
    "\n",
    "\n",
    "#Code ends here"
   ]
  },
  {
   "cell_type": "markdown",
   "metadata": {},
   "source": [
    "# Success Message\n",
    "\n",
    "Congrats! You have successfully plotted the the mean sample for different sample sizes."
   ]
  },
  {
   "cell_type": "markdown",
   "metadata": {},
   "source": [
    "# Small Business Interests\n",
    "\n",
    "The bank manager believes that people with `purpose` as `'small_business'`  have been given `int.rate` more due to the risk assosciated\n",
    "\n",
    "Let's do a hypothesis testing(one-sided) on that belief\n",
    "\n",
    "***\n",
    "\n",
    "Null Hypothesis $H_0: \\mu = $  `12 %` \n",
    "\n",
    "**Meaning**: There is no difference in interest rate being given to people with purpose as 'small_business' \n",
    "\n",
    "Alternate Hypothesis $H_1: \\mu > $ `12 %`\n",
    "\n",
    "**Meaning**: Interest rate being given to people with purpose as 'small_business' is higher than the average interest rate\n",
    "\n",
    "***\n",
    "* From the column `int.rate` of `'data'`, remove the `%` character and convert the column into float.\n",
    "\n",
    "\n",
    "* After that divide the values of `int.rate` with 100 and store the result back to the column `'int.rate'`\n",
    "\n",
    "\n",
    "* Apply `\"ztest()\"` with `x1` as `data[data['purpose']=='small_business']['int.rate']` and `value` as `data['int.rate'].mean()`, `alternative`=`'larger'`(**WHY?**) and save the results in `'z_statistic'` and `'p_value'` respectively\n",
    "\n",
    "\n",
    "* If `'p-value` is less than 0.05, you can reject the null hypothesis,\n",
    "  If `'p-value` is greater than 0.05, you can't reject the null hypothesis,"
   ]
  },
  {
   "cell_type": "markdown",
   "metadata": {},
   "source": [
    "# Hints\n",
    "\n",
    "You can drop `%` from `int.rate` from `'X_train'` by writing code similar to:\n",
    "\n",
    "`X_train['int.rate'].map(lambda x: str(x)[:-1])`\n",
    "\n",
    "\n",
    "You can divide `int.rate` by 100 by writing code similar to:\n",
    "\n",
    "`X_train['int.rate'].astype(float)/100`\n",
    "\n",
    "\n",
    "# Test Case\n",
    "\n",
    "#X_train['int.rate']\n",
    "\n",
    "np.round(data['int.rate'][100],4)==np.round(0.0712,4)\n",
    "\n",
    "np.round(data['int.rate'][50],4)==np.round(0.0743,4)\n",
    "\n",
    "np.all(num_df.columns.values==['int.rate', 'installment', 'log.annual.inc', 'dti', 'fico',\n",
    "       'days.with.cr.line', 'revol.bal', 'revol.util', 'pub.rec'])\n",
    "\n",
    "#z_statistic\n",
    "\n",
    "Variable declaration check\n",
    "\n",
    "round(z_statistic,2)==round(12.321276240200591,2)\n",
    "\n",
    "#p_value\n",
    "\n",
    "Variable declaration check\n",
    "\n",
    "round(p_value,35)==round(3.4792131906806856e-35,35)"
   ]
  },
  {
   "cell_type": "code",
   "execution_count": 47,
   "metadata": {},
   "outputs": [
    {
     "name": "stdout",
     "output_type": "stream",
     "text": [
      "Z-statistic is :12.321276240200591\n",
      "P-value is :3.4792131906806856e-35\n"
     ]
    }
   ],
   "source": [
    "#Importing header files\n",
    "\n",
    "from statsmodels.stats.weightstats import ztest\n",
    "\n",
    "#Code starts here\n",
    "\n",
    "# Removing the last character from the values in column\n",
    "data['int.rate'] = data['int.rate'].map(lambda x: str(x)[:-1])\n",
    "\n",
    "# Dividing the column values by 100\n",
    "data['int.rate']=data['int.rate'].astype(float)/100\n",
    "\n",
    "\n",
    "#Applying ztest for the hypothesis\n",
    "z_statistic, p_value = ztest(x1=data[data['purpose']=='small_business']['int.rate'], value=data['int.rate'].mean(), alternative='larger')\n",
    "\n",
    "print(('Z-statistic is :{}'.format(z_statistic)))\n",
    "print(('P-value is :{}'.format(p_value)))\n",
    "\n",
    "#Code ends here"
   ]
  },
  {
   "cell_type": "markdown",
   "metadata": {},
   "source": [
    "# Success Message\n",
    "\n",
    "Congrats! You have successfully implemented one sided hypothesis test"
   ]
  },
  {
   "cell_type": "markdown",
   "metadata": {},
   "source": [
    "# Installment vs Loan Defaulting\n",
    "\n",
    "The bank thinks that monthly installments (`installment`) customers have to pay might have some sort of effect on loan defaulters \n",
    "\n",
    "Let's do hypothesis testing(two-sided) on that\n",
    "\n",
    "***\n",
    "\n",
    "Null Hypothesis $H_0: \\mu $(yes) == $\\mu$(no)  \n",
    "\n",
    "**Meaning**: There is no difference in installments being paid by loan defaulters and loan non defaulters\n",
    "\n",
    "Alternate Hypothesis $H_1: \\mu $(yes) $ \\neq \\mu$(no)  \n",
    "\n",
    "**Meaning**: There is difference in installments being paid by loan defaulters and loan non defaulters\n",
    "\n",
    "***\n",
    "\n",
    "* Apply `\"ztest()\"` with `x1` as `data[data['paid.back.loan']=='Yes']['installment']` and `x2` as `data[data['paid.back.loan']=='Yes']['installment']` and save the results in `'z_statistic'` and `'p_value'` respectively\n",
    "\n",
    "\n",
    "* If `'p-value` is less than 0.05, you can reject the null hypothesis,\n",
    "  If `'p-value` is greater than 0.05, you can't reject the null hypothesis,  "
   ]
  },
  {
   "cell_type": "markdown",
   "metadata": {},
   "source": [
    "\n",
    "# Hints\n",
    "\n",
    "Application of your ztest will look similar to:\n",
    "\n",
    "```python\n",
    "ztest(x1=data[data['paid.back.loan']=='No']['installment'], x2=data[data['paid.back.loan']=='Yes']['installment'])\n",
    "\n",
    "```\n",
    "\n",
    "# Test Cases\n",
    "\n",
    "#z_statistic\n",
    "\n",
    "Variable declaration check\n",
    "round(z_statistic,2)==round(4.894575287952092,2)\n",
    "\n",
    "\n",
    "#p_value\n",
    "\n",
    "Variable declaration check\n",
    "round(p_value,7)==round(9.85182562491764e-07,7)"
   ]
  },
  {
   "cell_type": "code",
   "execution_count": 49,
   "metadata": {},
   "outputs": [
    {
     "name": "stdout",
     "output_type": "stream",
     "text": [
      "Z-statistic is :4.894575287952092\n",
      "P-value is :9.85182562491764e-07\n"
     ]
    },
    {
     "data": {
      "text/plain": [
       "1e-06"
      ]
     },
     "execution_count": 49,
     "metadata": {},
     "output_type": "execute_result"
    }
   ],
   "source": [
    "#Importing header files\n",
    "from statsmodels.stats.weightstats import ztest\n",
    "\n",
    "#Code starts here\n",
    "\n",
    "#Applying ztest for the hypothesis\n",
    "z_statistic, p_value = ztest(x1=data[data['paid.back.loan']=='No']['installment'], x2=data[data['paid.back.loan']=='Yes']['installment'])\n",
    "\n",
    "print(('Z-statistic is :{}'.format(z_statistic)))\n",
    "print(('P-value is :{}'.format(p_value)))\n",
    "\n",
    "#Code ends here\n",
    "round(9.85182562491764e-07,7)"
   ]
  },
  {
   "cell_type": "markdown",
   "metadata": {},
   "source": [
    "# Success Message\n",
    "\n",
    "Congrats! You have successfully implemented two sided hypothesis test"
   ]
  },
  {
   "cell_type": "markdown",
   "metadata": {},
   "source": [
    "# Purpose vs Loan Defaulting\n",
    "\n",
    "Another thing bank suspects is that there is a strong assosciation between purpose of the loan(`purpose` column) of a person and whether that person has paid back loan (`paid.back.loan` column)\n",
    "\n",
    "Since both are categorical columns, we will do chi-square test to test the same.\n",
    "\n",
    "***\n",
    "Null Hypothesis : Distribution of purpose across all customers is same.\n",
    "\n",
    "Alternative Hypothesis : Distribution of purpose for loan defaulters and non defaulters is different.\n",
    "\n",
    "***\n",
    "* Create a variable `'yes'` which is the value counts of `purpose` when `paid.back.loan` in `'data'` is `Yes`\n",
    "\n",
    "\n",
    "* Create a variable `'no'` which is the value counts of `purpose` when `paid.back.loan` in `'data'` is `No`\n",
    "\n",
    "\n",
    "* Concat `'yes.transpose()'`(transpose of `'yes'`) and `'no.transpose()'`(transpose of `'no'`) along `axis`=`1` with `keys`= `['Yes','No']` and store it in a variable called `'observed'`\n",
    "\n",
    "\n",
    "* Apply `\"chi2_contingency()\"` on `'observed'` and store the result in variables named `chi2, p, dof, ex` respectively.\n",
    "\n",
    "* Compare `chi2` with `critical_value`(given)\n",
    "\n",
    "* If chi-squared statistic exceeds the critical value, reject the null hypothesis that the two distributions are the same, else null hypothesis cannot be rejected"
   ]
  },
  {
   "cell_type": "markdown",
   "metadata": {},
   "source": [
    "# Hints\n",
    "You can concat `'yes'` and `'no'` by writing code similar to :\n",
    "\n",
    "```python\n",
    "\n",
    "pd.concat([yes.transpose(),no.transpose()], 1,keys=['Yes','No'])\n",
    "\n",
    "```\n",
    "\n",
    "# Test Case\n",
    "\n",
    "#observed\n",
    "\n",
    "Variable declaration check\n",
    "\n",
    "observed['Yes'][0]==1944\n",
    "observed['No'][0]==387\n",
    "\n",
    "#chi2\n",
    "Variable declaration check\n",
    "(round(chi2,2)==round(96.98469589063261,2)\n",
    "\n",
    "#p\n",
    "Variable declaration check\n",
    "round(p,18)==round(1.0672453117980422e-18,18)\n",
    "\n",
    "#dof\n",
    "Variable declaration check\n",
    "(dof==6)\n",
    "\n",
    "#ex\n",
    "Variable declaration check\n",
    "round(ex[0,1],2)==round(373.0865525161829,2)\n",
    "round(ex[2,0],2)==round(3323.6651701816663,2)"
   ]
  },
  {
   "cell_type": "code",
   "execution_count": 55,
   "metadata": {},
   "outputs": [
    {
     "name": "stdout",
     "output_type": "stream",
     "text": [
      "Critical value\n",
      "12.591587243743977\n",
      "Chi Statistic\n",
      "96.98469589063261\n"
     ]
    },
    {
     "data": {
      "text/plain": [
       "3323.67"
      ]
     },
     "execution_count": 55,
     "metadata": {},
     "output_type": "execute_result"
    }
   ],
   "source": [
    "#Importing header files\n",
    "from scipy.stats import chi2_contingency\n",
    "\n",
    "#Critical value \n",
    "critical_value = stats.chi2.ppf(q = 0.95, # Find the critical value for 95% confidence*\n",
    "                      df = 6)   # Df = number of variable categories(in purpose) - 1\n",
    "\n",
    "#Code starts here\n",
    "\n",
    "\n",
    "# Subsetting the dataframe\n",
    "yes=data[data['paid.back.loan']=='Yes']['purpose'].value_counts()\n",
    "no=data[data['paid.back.loan']=='No']['purpose'].value_counts()\n",
    "\n",
    "\n",
    "#Concating yes and no into a single dataframe\n",
    "observed=pd.concat([yes.transpose(),no.transpose()], 1,keys=['Yes','No'])\n",
    "\n",
    "chi2, p, dof, ex = chi2_contingency(observed)\n",
    "\n",
    "\n",
    "print(\"Critical value\")\n",
    "print(critical_value)\n",
    "\n",
    "\n",
    "print(\"Chi Statistic\")\n",
    "print(chi2)\n",
    "\n",
    "#Code ends here\n"
   ]
  },
  {
   "cell_type": "markdown",
   "metadata": {},
   "source": [
    "# Success Message\n",
    "\n",
    "Congrats! You have successfully applied chi square test on two categorical columns\n"
   ]
  }
 ],
 "metadata": {
  "celltoolbar": "Slideshow",
  "kernelspec": {
   "display_name": "Python 3",
   "language": "python",
   "name": "python3"
  },
  "language_info": {
   "codemirror_mode": {
    "name": "ipython",
    "version": 3
   },
   "file_extension": ".py",
   "mimetype": "text/x-python",
   "name": "python",
   "nbconvert_exporter": "python",
   "pygments_lexer": "ipython3",
   "version": "3.6.6"
  }
 },
 "nbformat": 4,
 "nbformat_minor": 2
}
