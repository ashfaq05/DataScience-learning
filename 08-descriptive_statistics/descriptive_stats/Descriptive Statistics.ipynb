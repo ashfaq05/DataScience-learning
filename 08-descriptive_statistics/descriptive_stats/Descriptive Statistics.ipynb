{
 "cells": [
  {
   "cell_type": "markdown",
   "metadata": {},
   "source": [
    "# Superhero Statistics\n",
    "\n",
    "The rise of superheroes and supervillains is at an all time high. The 'Academy of Super Beings(ASB)' was formed to bring order to it. We have with us the data of more than 500 super humans but we need your knowledge of descriptive statistics in figuring out the important insights from it.   \n",
    "\n",
    "\n",
    "## About the Dataset\n",
    "\n",
    "The snapshot of the data, you will be working upon:\n",
    "![SuperHeroData](SuperHeroData.PNG)\n",
    "\n",
    "The dataset has details of 594 super hero characters with the following 17 features.\n",
    "\n",
    "|Feature|Description|\n",
    "|-----|-----|\n",
    "|ID|Unique character ID|\n",
    "|Name|Name of the character|\n",
    "|Gender|Male/Female|\n",
    "|Intelligence|Intelligence points of the character|\n",
    "|Strength|Strength points of the character|\n",
    "|Speed|Speed points of the character|\n",
    "|Durability|Durability points of the character|\n",
    "|Power|Power points of the character|\n",
    "|Combat|Combat points of the character|\n",
    "|Total|Total sum of all the above points of the character|\n",
    "|Height|Height of the character(-99 value equates to 'immeasurable')|\n",
    "|Weight|Weight of the character(-99 value equates to 'immeasurable')|\n",
    "|SkinColor|Skin color of the the character|\n",
    "|EyeColor|Eye color of the character|\n",
    "|HairColor|Hair color of the character|\n",
    "|Race|Which race the character belongs to|\n",
    "\n",
    "\n",
    "## Why solve this project?\n",
    "\n",
    "After completing this project, you will have a better grip on the applications of descriptive statistics. In this project, you will be applying the following concepts:\n",
    "\n",
    "- Bar plotting   \n",
    "- Boxplot plotting\n",
    "- Pie-chart plotting\n",
    "- Subplot operations\n",
    "- Feature Correlation\n",
    "- IQR operations"
   ]
  },
  {
   "cell_type": "markdown",
   "metadata": {},
   "source": [
    "# Data loading\n",
    "\n",
    "First, we have to load data to do any sort of descriptive statistics\n",
    "\n",
    "* Load the dataframe from the variable `'path'` and store the dataframe in a variable called `'data'`.\n",
    "\n",
    "\n",
    "* In the column `Gender`, replace `'-'` with `'Agender'` using `\"replace()\"` function.\n",
    "\n",
    "                    Example of replace function:\n",
    "\n",
    "![replace](replace.PNG)\n",
    "\n",
    "\n",
    "* Save the value counts of `Gender` in a variable called `'gender_count'` using `\"value_counts()\"`.\n",
    "\n",
    "\n",
    "* Plot a bar graph of `'gender_count'`\n",
    "\n"
   ]
  },
  {
   "cell_type": "markdown",
   "metadata": {},
   "source": [
    "# Hints\n",
    "\n",
    "The x-axis parameter of the `bar()` function would be `gender_count.index`\n",
    "\n",
    "\n",
    "# Test Cases\n",
    "\n",
    "#data\n",
    "\n",
    "Variable declaration check\n",
    "\n",
    "type(data)==pandas.core.frame.DataFrame\n",
    "\n",
    "data.iloc[24,1]=='Ant-Man'\n",
    "\n",
    "data.iloc[53,11]==180\n",
    "\n",
    "#gender_count\n",
    "\n",
    "Variable declaration check\n",
    "\n",
    "gender_count[0]==413\n",
    "\n",
    "gender_count[1]==157\n",
    "\n",
    "gender_count[2]==24"
   ]
  },
  {
   "cell_type": "code",
   "execution_count": 4,
   "metadata": {},
   "outputs": [
    {
     "data": {
      "image/png": "[encoded data removed]",
      "text/plain": [
       "<Figure size 432x288 with 1 Axes>"
      ]
     },
     "metadata": {},
     "output_type": "display_data"
    },
    {
     "data": {
      "text/plain": [
       "'Ant-Man'"
      ]
     },
     "execution_count": 4,
     "metadata": {},
     "output_type": "execute_result"
    }
   ],
   "source": [
    "#Header files\n",
    "import pandas as pd\n",
    "import numpy as np\n",
    "import matplotlib.pyplot as plt\n",
    "%matplotlib inline\n",
    "#Code starts here \n",
    "\n",
    "#Reading of the file\n",
    "data=pd.read_csv('superhero_data.csv')\n",
    "\n",
    "#Replacing '-'' in the column with 'Agender'\n",
    "data['Gender'].replace('-','Agender', inplace=True)\n",
    "\n",
    "#Storing the value counts of 'Gender'\n",
    "gender_count=data['Gender'].value_counts()\n",
    "\n",
    "#Plotting bar graph of 'gender_count'\n",
    "plt.bar(gender_count.index, gender_count)\n",
    "plt.show()\n",
    "\n",
    "#Code ends here"
   ]
  },
  {
   "cell_type": "markdown",
   "metadata": {},
   "source": [
    "## Success Message\n",
    "\n",
    "Congrats! You have successfully loaded the data and plotted the bar plot for `Gender`"
   ]
  },
  {
   "cell_type": "markdown",
   "metadata": {},
   "source": [
    "# Heroes Alignment\n",
    "\n",
    "Next we are interested to know what's the stand of the members of 'ASB'. Does good overpower evil or does evil overwhelm good? Let's find out.\n",
    "\n",
    "* Save the value counts of `Alignment` in a variable called `'alignment'` using `\"value_counts()\"`.\n",
    "\n",
    "* Plot the pie chart of `'alignment'`.\n",
    "\n",
    "* Label the plot as `Character Alignment`\n",
    "\n",
    "\n",
    "#### Things to ponder upon: \n",
    "\n",
    "            - Would there be any change in the majority 'alignment' if the ones in neutral all took one side?\n"
   ]
  },
  {
   "cell_type": "markdown",
   "metadata": {},
   "source": [
    "# Hints\n",
    "\n",
    "The label parameter of the `pie()` function would be `alignment.index`\n",
    "\n",
    "\n",
    "# Test Cases\n",
    "\n",
    "\n",
    "#alignment\n",
    "\n",
    "Variable declaration check\n",
    "\n",
    "alignment[0]==420\n",
    "\n",
    "alignment[1]==163\n",
    "\n",
    "alignment[2]==11"
   ]
  },
  {
   "cell_type": "code",
   "execution_count": 2,
   "metadata": {},
   "outputs": [
    {
     "data": {
      "text/plain": [
       "Text(0.5,1,'Character alignment')"
      ]
     },
     "execution_count": 2,
     "metadata": {},
     "output_type": "execute_result"
    },
    {
     "data": {
      "image/png": "[encoded data removed]",
      "text/plain": [
       "<Figure size 432x432 with 1 Axes>"
      ]
     },
     "metadata": {},
     "output_type": "display_data"
    }
   ],
   "source": [
    "#Code starts here\n",
    "\n",
    "#Storing the value count of 'Alignment' \n",
    "alignment = data['Alignment'].value_counts()\n",
    "\n",
    "#Setting the figure size\n",
    "plt.figure(figsize=(6,6))\n",
    "\n",
    "#Plotting pie chart for 'alignment'\n",
    "plt.pie(alignment,labels=alignment.index,explode=(0.05,0.05,0.05),autopct='%1.1f %%')\n",
    "            \n",
    "#Setting the pie chart title\n",
    "plt.title('Character alignment')\n",
    "\n",
    "#Code ends here"
   ]
  },
  {
   "cell_type": "markdown",
   "metadata": {},
   "source": [
    "## Success Message\n",
    "\n",
    "Congrats! You have successfully plotted the pie chart for `Alignment`"
   ]
  },
  {
   "cell_type": "markdown",
   "metadata": {},
   "source": [
    "# Combat Correlation\n",
    "\n",
    "For any of the members, combat skills are really important to survive when they find themselves in unwanted situtations.\n",
    "But does combat relate to person's strength or it's intelligence? Let's find out\n",
    "\n",
    "* Create a subset of `'data'` having only the columns `['Strength','Combat']` and save it in a variable called `'sc_df'`.\n",
    "\n",
    "\n",
    "* Calcaulate the covariance between two variables and save the value into a variable named `sc_covariance`. \n",
    "\n",
    "\n",
    "* Find the standard deviation of column `Strength` and store it in a variable called `'sc_strength'`.\n",
    "\n",
    "\n",
    "* Find the standard deviation of column `Combat` and store it in a variable called `'sc_combat'`.\n",
    "\n",
    "\n",
    "* Using the above created variables, find the pearson's correlation coefficient between `Strength` & `Combat` and store it in a variable called `sc_pearson`.\n",
    "\n",
    "\n",
    "* Do the above steps similarly for the columns `Intelligence` and `Combat` and store them in appropriate variable names(i.e. Save the covariance between them in a variable called `'ic_covariance'` and so on and so forth)\n",
    "\n",
    "### Things to ponder upon:\n",
    "\n",
    "                - Based on the above calculations, which attribute is more correlated to combat? Strength or Intelligence?\n",
    "                \n",
    "                - Why did we use Pearson's correlation instead of Spearman?\n",
    "                \n",
    "                \n",
    "                "
   ]
  },
  {
   "cell_type": "markdown",
   "metadata": {},
   "source": [
    "# Hints\n",
    "You can calculate covariance using `\"cov()\"` function\n",
    "\n",
    "\n",
    "You can calculate standard deviation using `\"std()\"` function\n",
    "\n",
    "\n",
    "The formula for calculating pearson's coefficient between Strength and Combat is :\n",
    "\n",
    "`sc_pearson = sc_covariance/(sc_combat*sc_strength)`\n",
    "\n",
    "\n",
    "Similarly for Intelligence and Combat\n",
    "\n",
    "\n",
    "\n",
    "# Test cases\n",
    "\n",
    "#sc_df\n",
    "\n",
    "Variable declaration check\n",
    "\n",
    "sc_df.shape==(594,2)\n",
    "\n",
    "#sc_covariance\n",
    "\n",
    "Variable declaration check\n",
    "\n",
    "np.round(sc_covariance, 2)==np.round(617.49,2)\n",
    "\n",
    "#sc_strength\n",
    "\n",
    "Variable declaration check\n",
    "\n",
    "np.round(sc_strength,2)==np.round(32.46,2)\n",
    "\n",
    "#sc_combat\n",
    "\n",
    "Variable declaration check\n",
    "\n",
    "np.round(sc_combat,2)==np.round(33.24,2)\n",
    "\n",
    "#sc_pearson\n",
    "\n",
    "Variable declaration check\n",
    "\n",
    "np.round(sc_pearson,2)==np.round(0.57,2)\n",
    "\n",
    "\n",
    "#ic_df\n",
    "\n",
    "Variable declaration check\n",
    "\n",
    "ic_df.shape==(594,2)\n",
    "\n",
    "#ic_covariance\n",
    "\n",
    "Variable declaration check\n",
    "\n",
    "np.round(ic_covariance, 2)==np.round(853.42,2)\n",
    "\n",
    "\n",
    "#ic_intelligence\n",
    "\n",
    "Variable declaration check\n",
    "\n",
    "np.round(ic_intelligence,2)==np.round(32.82,2)\n",
    "\n",
    "#ic_combat\n",
    "\n",
    "Variable declaration check\n",
    "\n",
    "np.round(ic_combat,2)==np.round(33.24,2)\n",
    "\n",
    "#ic_pearson\n",
    "\n",
    "Variable declaration check\n",
    "\n",
    "np.round(ic_pearson,2)==np.round(0.78,2)\n"
   ]
  },
  {
   "cell_type": "code",
   "execution_count": 10,
   "metadata": {},
   "outputs": [
    {
     "name": "stdout",
     "output_type": "stream",
     "text": [
      "Pearson's Correlation Coefficient between Strength and Combat :  0.5720958235612116\n",
      "Pearson's Correlation Coefficient between Intelligence and Combat :  0.782150452517114\n"
     ]
    },
    {
     "data": {
      "text/plain": [
       "True"
      ]
     },
     "execution_count": 10,
     "metadata": {},
     "output_type": "execute_result"
    }
   ],
   "source": [
    "#Code starts here\n",
    "\n",
    "#Subsetting the data with columns ['Strength', 'Combat']\n",
    "sc_df = data[['Strength','Combat']].copy()\n",
    "\n",
    "#Finding covariance between 'Strength' and 'Combat'\n",
    "sc_covariance = sc_df.cov().iloc[0,1]\n",
    "\n",
    "#Finding the standard deviation of 'Strength'\n",
    "sc_strength = sc_df['Strength'].std()\n",
    "\n",
    "#Finding the standard deviation of 'Combat'\n",
    "sc_combat = sc_df['Combat'].std()\n",
    "\n",
    "#Calculating the Pearson's correlation between 'Strength' and 'Combat'\n",
    "sc_pearson = sc_covariance/(sc_combat*sc_strength)\n",
    "\n",
    "print(\"Pearson's Correlation Coefficient between Strength and Combat : \", sc_pearson)\n",
    "\n",
    "\n",
    "#Subsetting the data with columns ['Intelligence', 'Combat']\n",
    "ic_df = data[['Intelligence','Combat']].copy()\n",
    "\n",
    "#Finding covariance between 'Intelligence' and 'Combat'\n",
    "ic_covariance = ic_df.cov().iloc[0,1]\n",
    "\n",
    "#Finding the standard deviation of 'Intelligence'\n",
    "ic_intelligence = ic_df['Intelligence'].std()\n",
    "\n",
    "#Finding the standard deviation of 'Combat'\n",
    "ic_combat = ic_df['Combat'].std()\n",
    "\n",
    "#Calculating the Pearson's correlation between 'Intelligence' and 'Combat'\n",
    "ic_pearson = ic_covariance/(ic_intelligence*ic_combat)\n",
    "\n",
    "print(\"Pearson's Correlation Coefficient between Intelligence and Combat : \", ic_pearson)\n",
    "\n",
    "#Code ends here"
   ]
  },
  {
   "cell_type": "markdown",
   "metadata": {},
   "source": [
    "# Success Message\n",
    "\n",
    "Congrats! You have successfully found out the correlation of Combat with both Strength and Intelligence."
   ]
  },
  {
   "cell_type": "markdown",
   "metadata": {},
   "source": [
    "# Overpowered Super Beings?\n",
    "\n",
    "Who are the best of the best in this superhero universe? Let's find out.\n",
    "\n",
    "* Calculate the value of quantile=0.99 for the column `Total` and store the value in variable named `total_high`.\n",
    "\n",
    "\n",
    "* Subset the dataframe `'data'` based on column `Total`'s value greater than `'total_high'` and store the dataframe subset in a variable called `'super_best'`\n",
    "\n",
    "\n",
    "* Create a list of the names from `'Name'` assosicated with `'super_best'` dataframe and save it in a variable called `super_best_names`\n",
    "\n",
    "* Print the list to see the top superheroes/villains\n",
    "\n"
   ]
  },
  {
   "cell_type": "markdown",
   "metadata": {},
   "source": [
    "# Hints\n",
    "\n",
    "You can find the 0.99 percent quantile value using `\"quantile()\"` function\n",
    "\n",
    "# Test Cases\n",
    "\n",
    "#total_high\n",
    "\n",
    "Variable declaration check\n",
    "\n",
    "np.round(total_high,2)==np.round(554.05,2)\n",
    "\n",
    "#super_best\n",
    "\n",
    "Variable declaration check\n",
    "\n",
    "type(super_best)==pandas.core.frame.DataFrame\n",
    "\n",
    "np.all([super_best['Total']>554.05])\n",
    "\n",
    "\n",
    "#super_best_names\n",
    "\n",
    "Variable declaration check\n",
    "\n",
    "type(super_best_names)==list\n",
    "\n",
    "\n",
    "super_best_names.sort()==['Amazo', 'General Zod', 'Martian Manhunter', 'Stardust', 'Superboy-Prime', 'Superman'].sort()"
   ]
  },
  {
   "cell_type": "code",
   "execution_count": 13,
   "metadata": {},
   "outputs": [
    {
     "name": "stdout",
     "output_type": "stream",
     "text": [
      "['Amazo', 'General Zod', 'Martian Manhunter', 'Stardust', 'Superboy-Prime', 'Superman']\n"
     ]
    },
    {
     "data": {
      "text/plain": [
       "True"
      ]
     },
     "execution_count": 13,
     "metadata": {},
     "output_type": "execute_result"
    }
   ],
   "source": [
    "#Code starts here\n",
    "\n",
    "#Find the quantile=0.99 value of 'Total' column\n",
    "total_high= data['Total'].quantile(q=0.99)\n",
    "\n",
    "#Subsetting the dataframe based on 'total_high' \n",
    "super_best=data[data['Total']>total_high]\n",
    "\n",
    "#Creating a list of 'Name' associated with the 'super_best' dataframe\n",
    "super_best_names=list(super_best['Name'])\n",
    "\n",
    "#Printing the names\n",
    "print(super_best_names)\n",
    "\n",
    "#Code ends here"
   ]
  },
  {
   "cell_type": "markdown",
   "metadata": {},
   "source": [
    "# Success message\n",
    "\n",
    "Congrats! You have successfully found out the members having `Total` greater than the remaining 99%"
   ]
  },
  {
   "cell_type": "markdown",
   "metadata": {},
   "source": [
    "# Statistics for Survival\n",
    "\n",
    "Of the top 1% members of 'ASB', we want to measure certain attributes in case they become threatening to the human kind.\n",
    "\n",
    "* Create three subplots with axes as `'ax_1'`, `'ax_2'`, `'ax_3'`. \n",
    "\n",
    "\n",
    "* Plot a boxplot of  `Intelligence` column using `ax_1`. Set axis title as `Intelligence`.\n",
    "\n",
    "\n",
    "* Plot a boxplot of  `Speed` column using `ax_2`. Set axis title as `Speed`\n",
    "\n",
    "\n",
    "* Plot a boxplot of  `Power` column using `ax_3`. Set axis title as `Power`\n",
    "\n",
    "\n",
    "\n",
    "#### Things to ponder upon: \n",
    "\n",
    "            - Given the fact that the above atributes have their ranges from 0-100, which among them is the \n",
    "              one with the most disperse values(i.e. spread across a larger range of values)? least disperse values?\n",
    "            \n",
    "            - If the entire humanity has to fight against any one of these top super beings, improving what \n",
    "              atribute of a normal human would be our best chance for survival?\n",
    "            \n",
    "            "
   ]
  },
  {
   "cell_type": "markdown",
   "metadata": {},
   "source": [
    "# Hints\n",
    "\n",
    "To plot a box plot of `'Intelligence'` using '`ax_1`' you can write code similar to:\n",
    "\n",
    "    `ax_1.boxplot(super_best['Intelligence'])`\n",
    "\n",
    "You can write similar codes for 'CoapplicantIncome' and 'TotalIncome'\n",
    "\n",
    "\n",
    "\n",
    "# Test cases\n",
    "#ax_1\n",
    "Variable declaration check\n",
    "\n",
    "#ax_2\n",
    "Variable declaration check\n",
    "\n",
    "#ax_3\n",
    "Variable declaration check\n"
   ]
  },
  {
   "cell_type": "code",
   "execution_count": 20,
   "metadata": {},
   "outputs": [
    {
     "data": {
      "text/plain": [
       "[Text(0.5,1,'Power')]"
      ]
     },
     "execution_count": 20,
     "metadata": {},
     "output_type": "execute_result"
    },
    {
     "data": {
      "image/png": "[encoded data removed]",
      "text/plain": [
       "<Figure size 1440x576 with 3 Axes>"
      ]
     },
     "metadata": {},
     "output_type": "display_data"
    }
   ],
   "source": [
    "#Code starts here\n",
    "\n",
    "#Setting up the subplots\n",
    "fig, (ax_1, ax_2,ax_3) = plt.subplots(1,3, figsize=(20,8))\n",
    "\n",
    "#Plotting box plot\n",
    "ax_1.boxplot(super_best['Intelligence'])\n",
    "\n",
    "#Setting the subplot axis title\n",
    "ax_1.set(title='Intelligence')\n",
    "\n",
    "\n",
    "#Plotting box plot\n",
    "ax_2.boxplot(super_best['Speed'])\n",
    "\n",
    "#Setting the subplot axis title\n",
    "ax_2.set(title='Speed')\n",
    "\n",
    "\n",
    "#Plotting box plot\n",
    "ax_3.boxplot(super_best['Power'])\n",
    "\n",
    "#Setting the subplot axis title\n",
    "ax_3.set(title='Power')\n",
    "\n",
    "#Code ends here   \n"
   ]
  },
  {
   "cell_type": "markdown",
   "metadata": {},
   "source": [
    "# Success Message\n",
    "\n",
    "Congrats! You have successfully plotted box plots for the three attributes 'Intelligence', 'Speed' and 'Power'"
   ]
  },
  {
   "cell_type": "markdown",
   "metadata": {},
   "source": [
    "# END OF ASSESSMENT #"
   ]
  },
  {
   "cell_type": "code",
   "execution_count": 6,
   "metadata": {},
   "outputs": [],
   "source": [
    "# import pandas as pd\n",
    "# df=pd.read_csv('charcters_stats.csv')\n",
    "# df2=pd.read_csv('marvel_characters_info.csv')\n",
    "# # DF3=pd.read_csv('marvel_dc_characters_new.csv')\n",
    "\n",
    "# # frames = [DF1, DF2]\n",
    "\n",
    "# # result = pd.concat(frames, axis=1)\n",
    "\n",
    "# cols_to_use = set(df2.columns) - set(df.columns)\n",
    "# cols_to_use=list(cols_to_use)\n",
    "# result = df.merge(df2[cols_to_use], left_index=True, right_index=True, how='outer')\n",
    "\n",
    "# print(result.shape)\n",
    "# print(result.dropna(inplace=True))\n",
    "# print(result.shape)\n",
    "# print(result.to_csv('SuperHeroes_new.csv',index=False))\n",
    "\n"
   ]
  },
  {
   "cell_type": "code",
   "execution_count": 7,
   "metadata": {},
   "outputs": [
    {
     "name": "stdout",
     "output_type": "stream",
     "text": [
      "   ID Name  Score\n",
      "0   0    A     10\n",
      "1   1    B      4\n",
      "2   2    C     13\n",
      "3   3    D      7\n",
      "4   4    E     25\n",
      "\n",
      "After replacing value in score column:\n",
      "   ID Name  Score\n",
      "0   0    A     15\n",
      "1   1    B      4\n",
      "2   2    C     13\n",
      "3   3    D      7\n",
      "4   4    E     25\n"
     ]
    }
   ],
   "source": [
    "df = pd.DataFrame({ 'ID': [0, 1, 2, 3, 4],\n",
    "                    'Name': ['A', 'B', 'C', 'D', 'E'],\n",
    "                    'Score': [10, 4, 13, 7, 25]})\n",
    "print(df)\n",
    "df['Score'].replace(10, 15,inplace=True)\n",
    "print(\"\\nAfter replacing value in score column:\")\n",
    "print(df)"
   ]
  }
 ],
 "metadata": {
  "kernelspec": {
   "display_name": "Python 3",
   "language": "python",
   "name": "python3"
  },
  "language_info": {
   "codemirror_mode": {
    "name": "ipython",
    "version": 3
   },
   "file_extension": ".py",
   "mimetype": "text/x-python",
   "name": "python",
   "nbconvert_exporter": "python",
   "pygments_lexer": "ipython3",
   "version": "3.6.6"
  }
 },
 "nbformat": 4,
 "nbformat_minor": 2
}
